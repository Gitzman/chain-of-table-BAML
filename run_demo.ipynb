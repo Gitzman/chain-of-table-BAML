{
 "cells": [
  {
   "cell_type": "markdown",
   "metadata": {},
   "source": [
    "Copyright 2024 The Chain-of-Table authors\n",
    "\n",
    "Licensed under the Apache License, Version 2.0 (the \"License\");\n",
    "you may not use this file except in compliance with the License.\n",
    "You may obtain a copy of the License at\n",
    "\n",
    "    https://www.apache.org/licenses/LICENSE-2.0\n",
    "\n",
    "Unless required by applicable law or agreed to in writing, software\n",
    "distributed under the License is distributed on an \"AS IS\" BASIS,\n",
    "WITHOUT WARRANTIES OR CONDITIONS OF ANY KIND, either express or implied.\n",
    "See the License for the specific language governing permissions and\n",
    "limitations under the License."
   ]
  },
  {
   "cell_type": "markdown",
   "metadata": {},
   "source": [
    "# Demo of Chain of Tables\n",
    "\n",
    "Paper: https://arxiv.org/abs/2401.04398"
   ]
  },
  {
   "cell_type": "code",
   "execution_count": 1,
   "metadata": {},
   "outputs": [],
   "source": [
    "import pandas as pd\n",
    "\n",
    "from utils.load_data import wrap_input_for_demo\n",
    "from utils.llm import ChatGPT\n",
    "from utils.helper import *\n",
    "from utils.evaluate import *\n",
    "from utils.chain import *\n",
    "from operations import *\n",
    "from utils.load_data import load_tabfact_dataset\n",
    "import os"
   ]
  },
  {
   "cell_type": "code",
   "execution_count": 2,
   "metadata": {},
   "outputs": [],
   "source": [
    "# User parameters\n",
    "model_name: str = \"gpt-4o-mini\"\n",
    "openai_api_key: str = os.environ[\"OPENAI_API_KEY\"]\n",
    "\n",
    "# Default parameters\n",
    "dataset_path: str = \"data/tabfact/test.jsonl\"\n",
    "raw2clean_path: str = \"data/tabfact/raw2clean.jsonl\""
   ]
  },
  {
   "cell_type": "code",
   "execution_count": 3,
   "metadata": {},
   "outputs": [
    {
     "name": "stderr",
     "output_type": "stream",
     "text": [
      "Loading tabfact-test dataset: 100%|██████████| 2024/2024 [00:00<00:00, 53015.53it/s]\n"
     ]
    }
   ],
   "source": [
    "dataset = load_tabfact_dataset(dataset_path, raw2clean_path)"
   ]
  },
  {
   "cell_type": "code",
   "execution_count": 21,
   "metadata": {},
   "outputs": [
    {
     "data": {
      "text/plain": [
       "{'statement': 'the geo id for johnstown is 3810340820',\n",
       " 'label': 0,\n",
       " 'table_caption': 'list of townships in north dakota',\n",
       " 'table_text': [['township',\n",
       "   'county',\n",
       "   'pop (2010)',\n",
       "   'land ( sqmi )',\n",
       "   'water (sqmi)',\n",
       "   'latitude',\n",
       "   'longitude',\n",
       "   'geo id',\n",
       "   'ansi code'],\n",
       "  ['jackson',\n",
       "   'sargent',\n",
       "   '33',\n",
       "   '35.809',\n",
       "   '0.0',\n",
       "   '46.066276',\n",
       "   '- 97.945530',\n",
       "   '3808140460',\n",
       "   '1036797'],\n",
       "  ['james hill',\n",
       "   'mountrail',\n",
       "   '32',\n",
       "   '31.82',\n",
       "   '4.243',\n",
       "   '48.423125',\n",
       "   '- 102.429934',\n",
       "   '3806140500',\n",
       "   '1037048'],\n",
       "  ['james river valley',\n",
       "   'dickey',\n",
       "   '40',\n",
       "   '28.597',\n",
       "   '0.0',\n",
       "   '46.246641',\n",
       "   '- 98.188329',\n",
       "   '3802140540',\n",
       "   '1036767'],\n",
       "  ['janke',\n",
       "   'logan',\n",
       "   '28',\n",
       "   '35.995',\n",
       "   '0.163',\n",
       "   '46.415512',\n",
       "   '- 99.131701',\n",
       "   '3804740620',\n",
       "   '1037193'],\n",
       "  ['jefferson',\n",
       "   'pierce',\n",
       "   '45',\n",
       "   '35.069',\n",
       "   '1.125',\n",
       "   '48.232149',\n",
       "   '- 100.182370',\n",
       "   '3806940700',\n",
       "   '1759556'],\n",
       "  ['jim river valley',\n",
       "   'stutsman',\n",
       "   '38',\n",
       "   '34.134',\n",
       "   '1.746',\n",
       "   '47.112388',\n",
       "   '- 98.778478',\n",
       "   '3809340780',\n",
       "   '1036484'],\n",
       "  ['johnson',\n",
       "   'wells',\n",
       "   '36',\n",
       "   '35.299',\n",
       "   '0.908',\n",
       "   '47.377745',\n",
       "   '- 99.458677',\n",
       "   '3810340820',\n",
       "   '1037137'],\n",
       "  ['johnstown',\n",
       "   'grand forks',\n",
       "   '79',\n",
       "   '36.199',\n",
       "   '0.0',\n",
       "   '48.151362',\n",
       "   '- 97.449033',\n",
       "   '3803540940',\n",
       "   '1036624'],\n",
       "  ['joliette',\n",
       "   'pembina',\n",
       "   '67',\n",
       "   '70.044',\n",
       "   '0.771',\n",
       "   '48.796545',\n",
       "   '- 97.217227',\n",
       "   '3806741020',\n",
       "   '1036723']],\n",
       " 'table_id': '1-18600760-10.html.csv',\n",
       " 'id': 'test-75',\n",
       " 'chain': [],\n",
       " 'cleaned_statement': 'the geo id for johnstown be 3810340820'}"
      ]
     },
     "execution_count": 21,
     "metadata": {},
     "output_type": "execute_result"
    }
   ],
   "source": [
    "test_sample= dataset[75]\n",
    "table_text = test_sample['table_text']\n",
    "answer = True if test_sample['label'] == 1 else False\n",
    "test_sample"
   ]
  },
  {
   "cell_type": "code",
   "execution_count": 22,
   "metadata": {},
   "outputs": [],
   "source": [
    "gpt_llm = ChatGPT(\n",
    "    model_name=model_name,\n",
    "    key=openai_api_key,\n",
    ")"
   ]
  },
  {
   "cell_type": "code",
   "execution_count": 23,
   "metadata": {},
   "outputs": [
    {
     "name": "stdout",
     "output_type": "stream",
     "text": [
      "Act Chain:  []\n",
      "Kept Act Chain:  []\n",
      "Skip Act Chain:  []\n",
      "Last Operation:  <init>\n",
      "Possible Next Operations:  ['add_column', 'select_row', 'select_column', 'group_column', 'sort_column']\n",
      "possible_statement_interpretations=['The geo id for the township of johnstown is 3810340820.'] explanation=\"We need to check the 'geo id' value for the row where the 'township' is 'johnstown'.\" operationchain=['select_row', 'select_column', 'END']\n",
      "select_row\n",
      "Act Chain:  ['f_select_row(row 1)']\n",
      "Kept Act Chain:  ['f_select_row(row 1)']\n",
      "Skip Act Chain:  []\n",
      "Last Operation:  select_row\n",
      "Possible Next Operations:  ['select_column', 'group_column', 'sort_column', '<END>']\n",
      "possible_statement_interpretations=['The geo id for the township named Johnstown is 3810340820'] explanation=\"The row containing Johnstown has been selected, so the next step is to select the 'geo id' column to verify if it matches the given value.\" operationchain=['select_column']\n",
      "select_column\n",
      "Act Chain:  ['f_select_row(row 1)', 'f_select_column(township, geo id)']\n",
      "Kept Act Chain:  ['f_select_row(row 1)', 'f_select_column(township, geo id)']\n",
      "Skip Act Chain:  []\n",
      "Last Operation:  select_column\n",
      "Possible Next Operations:  ['group_column', 'sort_column', '<END>']\n",
      "possible_statement_interpretations=['The geo ID for the township of Johnstown is 3810340820.'] explanation='The operation history already isolates the relevant township and geo ID, allowing for direct comparison.' operationchain=['END']\n",
      "<END>\n"
     ]
    }
   ],
   "source": [
    "proc_sample, dynamic_chain_log = dynamic_chain_exec_one_sample(\n",
    "    sample=test_sample, llm=gpt_llm, debug=True\n",
    ")\n"
   ]
  },
  {
   "cell_type": "code",
   "execution_count": 24,
   "metadata": {},
   "outputs": [
    {
     "name": "stdout",
     "output_type": "stream",
     "text": [
      "explanation='The table shows that the geo id for johnstown is 3803540940, which is different from the claimed 3810340820.' answer=<Answers.FALSE: 'FALSE'>\n",
      "Table: table caption : list of townships in north dakota\n",
      "col : township | geo id\n",
      "row 1 : johnstown | 3803540940\n",
      "Statement: the geo id for johnstown is 3810340820\n",
      "Answer: NO\n",
      "Explanation: The table shows that the geo id for johnstown is 3803540940, which is different from the claimed 3810340820.\n"
     ]
    }
   ],
   "source": [
    "output_sample = simple_query(\n",
    "    sample=proc_sample,\n",
    "    table_info=get_table_info(proc_sample),\n",
    "    debug=True\n",
    "\n",
    ")\n",
    "cotable_log = get_table_log(output_sample)"
   ]
  },
  {
   "cell_type": "code",
   "execution_count": 25,
   "metadata": {},
   "outputs": [
    {
     "name": "stdout",
     "output_type": "stream",
     "text": [
      "Statements: the geo id for johnstown is 3810340820\n",
      "\n",
      "Table: list of townships in north dakota\n",
      "             township       county pop (2010) land ( sqmi ) water (sqmi)  \\\n",
      "0             jackson      sargent         33        35.809          0.0   \n",
      "1          james hill    mountrail         32         31.82        4.243   \n",
      "2  james river valley       dickey         40        28.597          0.0   \n",
      "3               janke        logan         28        35.995        0.163   \n",
      "4           jefferson       pierce         45        35.069        1.125   \n",
      "5    jim river valley     stutsman         38        34.134        1.746   \n",
      "6             johnson        wells         36        35.299        0.908   \n",
      "7           johnstown  grand forks         79        36.199          0.0   \n",
      "8            joliette      pembina         67        70.044        0.771   \n",
      "\n",
      "    latitude     longitude      geo id ansi code  \n",
      "0  46.066276   - 97.945530  3808140460   1036797  \n",
      "1  48.423125  - 102.429934  3806140500   1037048  \n",
      "2  46.246641   - 98.188329  3802140540   1036767  \n",
      "3  46.415512   - 99.131701  3804740620   1037193  \n",
      "4  48.232149  - 100.182370  3806940700   1759556  \n",
      "5  47.112388   - 98.778478  3809340780   1036484  \n",
      "6  47.377745   - 99.458677  3810340820   1037137  \n",
      "7  48.151362   - 97.449033  3803540940   1036624  \n",
      "8  48.796545   - 97.217227  3806741020   1036723  \n",
      "\n",
      "-> f_select_row(row 7)\n",
      "    township       county pop (2010) land ( sqmi ) water (sqmi)   latitude  \\\n",
      "0  johnstown  grand forks         79        36.199          0.0  48.151362   \n",
      "\n",
      "     longitude      geo id ansi code  \n",
      "0  - 97.449033  3803540940   1036624  \n",
      "\n",
      "-> f_select_column(township, geo id)\n",
      "    township      geo id\n",
      "0  johnstown  3803540940\n",
      "\n",
      "-> simple_query()\n",
      "The statement is False\n",
      "\n",
      "We Answered With: NO\n",
      "Groundtruth: The statement is False\n"
     ]
    }
   ],
   "source": [
    "print(f'Statements: {output_sample[\"statement\"]}\\n')\n",
    "print(f'Table: {output_sample[\"table_caption\"]}')\n",
    "print(f\"{pd.DataFrame(table_text[1:], columns=table_text[0])}\\n\")\n",
    "for table_info in cotable_log:\n",
    "    if table_info[\"act_chain\"]:\n",
    "        table_text = table_info[\"table_text\"]\n",
    "        table_action = table_info[\"act_chain\"][-1]\n",
    "        if \"skip\" in table_action:\n",
    "            continue\n",
    "        if \"query\" in table_action:\n",
    "            result = table_info[\"cotable_result\"]\n",
    "            if result == \"YES\":\n",
    "                print(f\"-> {table_action}\\nThe statement is True\\n\")\n",
    "            else:\n",
    "                print(f\"-> {table_action}\\nThe statement is False\\n\")\n",
    "        else:\n",
    "            print(f\"-> {table_action}\\n{pd.DataFrame(table_text[1:], columns=table_text[0])}\")\n",
    "            if 'group_sub_table' in table_info:\n",
    "                group_column, group_info = table_info[\"group_sub_table\"]\n",
    "                group_headers = [\"Group ID\", group_column, \"Count\"]\n",
    "                group_rows = []\n",
    "                for i, (v, count) in enumerate(group_info):\n",
    "                    if v.strip() == \"\":\n",
    "                        v = \"[Empty Cell]\"\n",
    "                    group_rows.append([f\"Group {i+1}\", v, str(count)])\n",
    "                print(f\"{pd.DataFrame(group_rows, columns=group_headers)}\")\n",
    "            print()\n",
    "\n",
    "print (f\"We Answered With: {cotable_log[-1]['cotable_result']}\")\n",
    "print(f\"Groundtruth: The statement is {answer}\")"
   ]
  },
  {
   "cell_type": "code",
   "execution_count": null,
   "metadata": {},
   "outputs": [],
   "source": []
  }
 ],
 "metadata": {
  "kernelspec": {
   "display_name": "cotable",
   "language": "python",
   "name": "python3"
  },
  "language_info": {
   "codemirror_mode": {
    "name": "ipython",
    "version": 3
   },
   "file_extension": ".py",
   "mimetype": "text/x-python",
   "name": "python",
   "nbconvert_exporter": "python",
   "pygments_lexer": "ipython3",
   "version": "3.10.14"
  }
 },
 "nbformat": 4,
 "nbformat_minor": 2
}
