{
 "cells": [
  {
   "cell_type": "markdown",
   "metadata": {},
   "source": [
    "Copyright 2024 The Chain-of-Table authors\n",
    "\n",
    "Licensed under the Apache License, Version 2.0 (the \"License\");\n",
    "you may not use this file except in compliance with the License.\n",
    "You may obtain a copy of the License at\n",
    "\n",
    "    https://www.apache.org/licenses/LICENSE-2.0\n",
    "\n",
    "Unless required by applicable law or agreed to in writing, software\n",
    "distributed under the License is distributed on an \"AS IS\" BASIS,\n",
    "WITHOUT WARRANTIES OR CONDITIONS OF ANY KIND, either express or implied.\n",
    "See the License for the specific language governing permissions and\n",
    "limitations under the License."
   ]
  },
  {
   "cell_type": "markdown",
   "metadata": {},
   "source": [
    "# Demo of Chain of Tables\n",
    "\n",
    "Paper: https://arxiv.org/abs/2401.04398"
   ]
  },
  {
   "cell_type": "code",
   "execution_count": 1,
   "metadata": {},
   "outputs": [],
   "source": [
    "import pandas as pd\n",
    "\n",
    "from utils.load_data import wrap_input_for_demo\n",
    "from utils.llm import ChatGPT\n",
    "from utils.helper import *\n",
    "from utils.evaluate import *\n",
    "from utils.chain import *\n",
    "from operations import *\n",
    "from utils.load_data import load_tabfact_dataset\n",
    "import os"
   ]
  },
  {
   "cell_type": "code",
   "execution_count": 2,
   "metadata": {},
   "outputs": [],
   "source": [
    "# User parameters\n",
    "model_name: str = \"gpt-4o-mini\"\n",
    "openai_api_key: str = os.environ[\"OPENAI_API_KEY\"]\n",
    "\n",
    "# Default parameters\n",
    "dataset_path: str = \"data/tabfact/test.jsonl\"\n",
    "raw2clean_path: str = \"data/tabfact/raw2clean.jsonl\""
   ]
  },
  {
   "cell_type": "code",
   "execution_count": 3,
   "metadata": {},
   "outputs": [
    {
     "name": "stderr",
     "output_type": "stream",
     "text": [
      "Loading tabfact-test dataset: 100%|██████████| 2024/2024 [00:00<00:00, 55996.35it/s]\n"
     ]
    }
   ],
   "source": [
    "dataset = load_tabfact_dataset(dataset_path, raw2clean_path)"
   ]
  },
  {
   "cell_type": "code",
   "execution_count": 9,
   "metadata": {},
   "outputs": [
    {
     "data": {
      "text/plain": [
       "{'statement': 'the wildcats lost one game in september and two games in november',\n",
       " 'label': 1,\n",
       " 'table_caption': '1947 kentucky wildcats football team',\n",
       " 'table_text': [['game',\n",
       "   'date',\n",
       "   'opponent',\n",
       "   'result',\n",
       "   'wildcats points',\n",
       "   'opponents',\n",
       "   'record'],\n",
       "  ['1', 'sept 20', 'ole miss', 'loss', '7', '14', '0 - 1'],\n",
       "  ['2', 'sept 27', 'cincinnati', 'win', '20', '0', '1 - 1'],\n",
       "  ['3', 'oct 4', 'xavier', 'win', '20', '7', '2 - 1'],\n",
       "  ['4', 'oct 11', '9 georgia', 'win', '26', '0', '3 - 1 , 20'],\n",
       "  ['5', 'oct 18', '10 vanderbilt', 'win', '14', '0', '4 - 1 , 14'],\n",
       "  ['6', 'oct 25', 'michigan state', 'win', '7', '6', '5 - 1 , 13'],\n",
       "  ['7', 'nov 1', '18 alabama', 'loss', '0', '13', '5 - 2'],\n",
       "  ['8', 'nov 8', 'west virginia', 'win', '15', '6', '6 - 2'],\n",
       "  ['9', 'nov 15', 'evansville', 'win', '36', '0', '7 - 2'],\n",
       "  ['10', 'nov 22', 'tennessee', 'loss', '6', '13', '7 - 3']],\n",
       " 'table_id': '1-24560733-1.html.csv',\n",
       " 'id': 'test-2',\n",
       " 'chain': [],\n",
       " 'cleaned_statement': 'the wildcat lose 1 game in september and 2 game in november'}"
      ]
     },
     "execution_count": 9,
     "metadata": {},
     "output_type": "execute_result"
    }
   ],
   "source": [
    "test_sample= dataset[2]\n",
    "table_text = test_sample['table_text']\n",
    "answer = True if test_sample['label'] == 1 else False\n",
    "test_sample"
   ]
  },
  {
   "cell_type": "code",
   "execution_count": 10,
   "metadata": {},
   "outputs": [],
   "source": [
    "gpt_llm = ChatGPT(\n",
    "    model_name=model_name,\n",
    "    key=openai_api_key,\n",
    ")"
   ]
  },
  {
   "cell_type": "code",
   "execution_count": 11,
   "metadata": {},
   "outputs": [
    {
     "name": "stdout",
     "output_type": "stream",
     "text": [
      "Act Chain:  []\n",
      "Kept Act Chain:  []\n",
      "Skip Act Chain:  []\n",
      "Last Operation:  <init>\n",
      "Possible Next Operations:  ['add_column', 'select_row', 'select_column', 'group_column', 'sort_column']\n",
      "explanation='To verify the statement, we need to focus on the games played in September and November and check the results to count the losses in these months.' operationchain=[<Operation.SELECT_ROW: 'SELECT_ROW'>, <Operation.SELECT_COLUMN: 'SELECT_COLUMN'>, <Operation.GROUP_COLUMN: 'GROUP_COLUMN'>, <Operation.END: 'END'>]\n",
      "select_row\n",
      "Act Chain:  ['f_select_row(row 1, row 2, row 3)']\n",
      "Kept Act Chain:  ['f_select_row(row 1, row 2, row 3)']\n",
      "Skip Act Chain:  []\n",
      "Last Operation:  select_row\n",
      "Possible Next Operations:  ['select_column', 'group_column', 'sort_column', '<END>']\n",
      "explanation='To verify the statement about the number of games lost in specific months, we need to focus on the game dates and their results.' operationchain=[<Operation.END: 'END'>]\n",
      "<END>\n"
     ]
    }
   ],
   "source": [
    "proc_sample, dynamic_chain_log = dynamic_chain_exec_one_sample(\n",
    "    sample=test_sample, llm=gpt_llm, debug=True\n",
    ")\n"
   ]
  },
  {
   "cell_type": "code",
   "execution_count": 12,
   "metadata": {},
   "outputs": [
    {
     "name": "stdout",
     "output_type": "stream",
     "text": [
      "explanation='By analyzing the dates and results, the Wildcats lost one game in September (Row 1) and two games in November (Row 2 and Row 3).' answer=<Answers.TRUE: 'TRUE'>\n",
      "Table: table caption : 1947 kentucky wildcats football team\n",
      "col : game | date | opponent | result | wildcats points | opponents | record\n",
      "row 1 : 1 | sept 20 | ole miss | loss | 7 | 14 | 0 - 1\n",
      "row 2 : 7 | nov 1 | 18 alabama | loss | 0 | 13 | 5 - 2\n",
      "row 3 : 10 | nov 22 | tennessee | loss | 6 | 13 | 7 - 3\n",
      "Statement: the wildcats lost one game in september and two games in november\n",
      "Answer: YES\n",
      "Explanation: By analyzing the dates and results, the Wildcats lost one game in September (Row 1) and two games in November (Row 2 and Row 3).\n"
     ]
    }
   ],
   "source": [
    "output_sample = simple_query(\n",
    "    sample=proc_sample,\n",
    "    table_info=get_table_info(proc_sample),\n",
    "    debug=True\n",
    "\n",
    ")\n",
    "cotable_log = get_table_log(output_sample)"
   ]
  },
  {
   "cell_type": "code",
   "execution_count": 13,
   "metadata": {},
   "outputs": [
    {
     "name": "stdout",
     "output_type": "stream",
     "text": [
      "Statements: the wildcats lost one game in september and two games in november\n",
      "\n",
      "Table: 1947 kentucky wildcats football team\n",
      "  game     date        opponent result wildcats points opponents      record\n",
      "0    1  sept 20        ole miss   loss               7        14       0 - 1\n",
      "1    2  sept 27      cincinnati    win              20         0       1 - 1\n",
      "2    3    oct 4          xavier    win              20         7       2 - 1\n",
      "3    4   oct 11       9 georgia    win              26         0  3 - 1 , 20\n",
      "4    5   oct 18   10 vanderbilt    win              14         0  4 - 1 , 14\n",
      "5    6   oct 25  michigan state    win               7         6  5 - 1 , 13\n",
      "6    7    nov 1      18 alabama   loss               0        13       5 - 2\n",
      "7    8    nov 8   west virginia    win              15         6       6 - 2\n",
      "8    9   nov 15      evansville    win              36         0       7 - 2\n",
      "9   10   nov 22       tennessee   loss               6        13       7 - 3\n",
      "\n",
      "-> f_select_row(row 0, row 6, row 9)\n",
      "  game     date    opponent result wildcats points opponents record\n",
      "0    1  sept 20    ole miss   loss               7        14  0 - 1\n",
      "1    7    nov 1  18 alabama   loss               0        13  5 - 2\n",
      "2   10   nov 22   tennessee   loss               6        13  7 - 3\n",
      "\n",
      "-> simple_query()\n",
      "The statement is True\n",
      "\n",
      "We Answered With: YES\n",
      "Groundtruth: The statement is True\n"
     ]
    }
   ],
   "source": [
    "print(f'Statements: {output_sample[\"statement\"]}\\n')\n",
    "print(f'Table: {output_sample[\"table_caption\"]}')\n",
    "print(f\"{pd.DataFrame(table_text[1:], columns=table_text[0])}\\n\")\n",
    "for table_info in cotable_log:\n",
    "    if table_info[\"act_chain\"]:\n",
    "        table_text = table_info[\"table_text\"]\n",
    "        table_action = table_info[\"act_chain\"][-1]\n",
    "        if \"skip\" in table_action:\n",
    "            continue\n",
    "        if \"query\" in table_action:\n",
    "            result = table_info[\"cotable_result\"]\n",
    "            if result == \"YES\":\n",
    "                print(f\"-> {table_action}\\nThe statement is True\\n\")\n",
    "            else:\n",
    "                print(f\"-> {table_action}\\nThe statement is False\\n\")\n",
    "        else:\n",
    "            print(f\"-> {table_action}\\n{pd.DataFrame(table_text[1:], columns=table_text[0])}\")\n",
    "            if 'group_sub_table' in table_info:\n",
    "                group_column, group_info = table_info[\"group_sub_table\"]\n",
    "                group_headers = [\"Group ID\", group_column, \"Count\"]\n",
    "                group_rows = []\n",
    "                for i, (v, count) in enumerate(group_info):\n",
    "                    if v.strip() == \"\":\n",
    "                        v = \"[Empty Cell]\"\n",
    "                    group_rows.append([f\"Group {i+1}\", v, str(count)])\n",
    "                print(f\"{pd.DataFrame(group_rows, columns=group_headers)}\")\n",
    "            print()\n",
    "\n",
    "print (f\"We Answered With: {cotable_log[-1]['cotable_result']}\")\n",
    "print(f\"Groundtruth: The statement is {answer}\")"
   ]
  },
  {
   "cell_type": "code",
   "execution_count": null,
   "metadata": {},
   "outputs": [],
   "source": []
  }
 ],
 "metadata": {
  "kernelspec": {
   "display_name": "cotable",
   "language": "python",
   "name": "python3"
  },
  "language_info": {
   "codemirror_mode": {
    "name": "ipython",
    "version": 3
   },
   "file_extension": ".py",
   "mimetype": "text/x-python",
   "name": "python",
   "nbconvert_exporter": "python",
   "pygments_lexer": "ipython3",
   "version": "3.10.14"
  }
 },
 "nbformat": 4,
 "nbformat_minor": 2
}
